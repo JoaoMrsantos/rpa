{
 "cells": [
  {
   "cell_type": "code",
   "execution_count": 4,
   "metadata": {},
   "outputs": [],
   "source": [
    "import urllib.request as urllib_request\n",
    "from urllib.request import urlopen\n",
    "from bs4 import BeautifulSoup\n",
    "import pandas as pd\n",
    "\n",
    "def coletar_pagina(url):\n",
    "    '''Coleta o html de uma pagina a partir da sua url'''\n",
    "    response = urlopen(url)\n",
    "    html = response.read()\n",
    "    soup = BeautifulSoup(html, 'html.parser')\n",
    "    return soup\n",
    "\n",
    "# Coletando arquivo html e guardando em uma variavel\n",
    "url = 'http://www.astro.rug.nl/lensesinkids/'\n",
    "bs = coletar_pagina(url)"
   ]
  },
  {
   "cell_type": "code",
   "execution_count": 14,
   "metadata": {},
   "outputs": [
    {
     "data": {
      "text/plain": [
       "['2075', '70', '338.65674', '-32.36358', '', 'g.fits', 'r.fits', 'i.fits']"
      ]
     },
     "execution_count": 14,
     "metadata": {},
     "output_type": "execute_result"
    }
   ],
   "source": [
    "head = bs.table.find_all('th')\n",
    "itens = bs.table.find_all('tr')[1:]\n",
    "hd = []\n",
    "for it in head:\n",
    "    hd.append(it.text)\n",
    "\n",
    "row_dados = []\n",
    "string_01 = 'g.fitsr.fitsi.fits'\n",
    "for item in itens[0].find_all('td'):\n",
    "    row_dados.append(item.text.replace(string_01, ''))\n",
    "\n",
    "for i in range(0,len(row_dados)-1):\n",
    "    \"\"\" Remoção de dados duplicados \"\"\"\n",
    "    row_dados[i] = row_dados[i].replace(row_dados[i+1], '')\n",
    "row_dados"
   ]
  },
  {
   "cell_type": "code",
   "execution_count": 26,
   "metadata": {},
   "outputs": [],
   "source": [
    "dados = []\n",
    "for item in itens:\n",
    "    aux_itens = item.find_all('td')\n",
    "    row_dados = []\n",
    "    string_01 = 'g.fitsr.fitsi.fits'\n",
    "    for it in aux_itens:\n",
    "        \"\"\" Remoção de dados referentes à estrutura do site \"\"\"\n",
    "        row_dados.append(it.text.replace(string_01, ''))\n",
    "    row = {}   \n",
    "    for i in range(0,len(row_dados)-1):\n",
    "        \"\"\" Remoção de dados duplicados \"\"\"\n",
    "        row_dados[i] = row_dados[i].replace(row_dados[i+1], '')\n",
    "    for j in range(0, len(row_dados)):\n",
    "        row[hd[j]] = row_dados[j]\n",
    "    dados.append(row)"
   ]
  },
  {
   "cell_type": "code",
   "execution_count": null,
   "metadata": {},
   "outputs": [],
   "source": []
  }
 ],
 "metadata": {
  "kernelspec": {
   "display_name": "Python 3",
   "language": "python",
   "name": "python3"
  },
  "language_info": {
   "codemirror_mode": {
    "name": "ipython",
    "version": 3
   },
   "file_extension": ".py",
   "mimetype": "text/x-python",
   "name": "python",
   "nbconvert_exporter": "python",
   "pygments_lexer": "ipython3",
   "version": "3.7.6"
  }
 },
 "nbformat": 4,
 "nbformat_minor": 4
}
