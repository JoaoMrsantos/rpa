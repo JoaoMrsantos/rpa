{
 "cells": [
  {
   "cell_type": "code",
   "execution_count": 1,
   "metadata": {},
   "outputs": [
    {
     "name": "stderr",
     "output_type": "stream",
     "text": [
      "[WDM] - Current google-chrome version is 114.0.5735\n",
      "[WDM] - Get LATEST driver version for 114.0.5735\n",
      "[WDM] - Get LATEST driver version for 114.0.5735\n",
      "[WDM] - Trying to download new driver from http://chromedriver.storage.googleapis.com/114.0.5735.90/chromedriver_mac64.zip\n"
     ]
    },
    {
     "name": "stdout",
     "output_type": "stream",
     "text": [
      " \n"
     ]
    },
    {
     "name": "stderr",
     "output_type": "stream",
     "text": [
      "[WDM] - Driver has been saved in cache [/Users/joao/.wdm/drivers/chromedriver/mac64/114.0.5735.90]\n"
     ]
    }
   ],
   "source": [
    "from selenium import webdriver\n",
    "from selenium.webdriver.common.by import By\n",
    "from selenium.webdriver.support.ui import WebDriverWait\n",
    "from selenium.webdriver.support import expected_conditions as EC\n",
    "from webdriver_manager.chrome import ChromeDriverManager\n",
    "from time import sleep\n",
    "import pandas as pd\n",
    "\n",
    "import urllib.request as urllib_request\n",
    "from urllib.request import urlopen\n",
    "from bs4 import BeautifulSoup\n",
    "\n",
    "url = \"https://www.magazineluiza.com.br/\"\n",
    "browser = webdriver.Chrome(ChromeDriverManager().install())\n",
    "browser.get(url)"
   ]
  },
  {
   "cell_type": "code",
   "execution_count": 2,
   "metadata": {},
   "outputs": [],
   "source": [
    "search_xpth = '//*[@id=\"input-search\"]'\n",
    "browser.find_element_by_xpath(search_xpth).click()\n",
    "sleep(2)\n",
    "texto_pesq = 'geladeira \\n'\n",
    "browser.find_element_by_xpath(search_xpth).send_keys(texto_pesq)"
   ]
  },
  {
   "cell_type": "code",
   "execution_count": 3,
   "metadata": {},
   "outputs": [],
   "source": [
    "pageSource = browser.page_source\n",
    "bs = BeautifulSoup(pageSource, 'html.parser')"
   ]
  },
  {
   "cell_type": "code",
   "execution_count": 18,
   "metadata": {},
   "outputs": [],
   "source": [
    "lista_de_prod = bs.find(\"ul\",\n",
    "                        {\"class\" : \"sc-fjvvzt ehuxpX sc-gvZAcH gpxQSn sc-eWHaVC jBBxap\"})"
   ]
  },
  {
   "cell_type": "code",
   "execution_count": 22,
   "metadata": {},
   "outputs": [],
   "source": [
    "ex_prod = lista_de_prod.find(\"li\", {\"class\" : \"sc-leQnM ldqJvo\"})\n",
    "info_prod = ex_prod.find(\"div\", {\"data-testid\" : \"product-card-content\"})"
   ]
  },
  {
   "cell_type": "code",
   "execution_count": 33,
   "metadata": {},
   "outputs": [],
   "source": [
    "titulo_prod = info_prod.find(\"h2\", {\"data-testid\" : \"product-title\"}).text\n",
    "preco_orig_prod = info_prod.find(\"p\", {\"data-testid\" : \"price-original\"}).text\n",
    "preco_prod = info_prod.find(\"p\", {\"data-testid\" : \"price-value\"}).text"
   ]
  },
  {
   "cell_type": "code",
   "execution_count": 52,
   "metadata": {},
   "outputs": [
    {
     "name": "stderr",
     "output_type": "stream",
     "text": [
      "[WDM] - Current google-chrome version is 114.0.5735\n",
      "[WDM] - Get LATEST driver version for 114.0.5735\n",
      "[WDM] - Driver [/Users/joao/.wdm/drivers/chromedriver/mac64/114.0.5735.90/chromedriver] found in cache\n"
     ]
    },
    {
     "name": "stdout",
     "output_type": "stream",
     "text": [
      " \n"
     ]
    }
   ],
   "source": [
    "from selenium import webdriver\n",
    "from selenium.webdriver.common.by import By\n",
    "from selenium.webdriver.support.ui import WebDriverWait\n",
    "from selenium.webdriver.support import expected_conditions as EC\n",
    "from webdriver_manager.chrome import ChromeDriverManager\n",
    "from time import sleep\n",
    "import pandas as pd\n",
    "\n",
    "import urllib.request as urllib_request\n",
    "from urllib.request import urlopen\n",
    "from bs4 import BeautifulSoup\n",
    "\n",
    "url = \"https://www.magazineluiza.com.br/\"\n",
    "browser = webdriver.Chrome(ChromeDriverManager().install())\n",
    "browser.get(url)\n",
    "search_xpth = '//*[@id=\"input-search\"]'\n",
    "browser.find_element_by_xpath(search_xpth).click()\n",
    "sleep(2)\n",
    "texto_pesq = 'geladeira \\n'\n",
    "browser.find_element_by_xpath(search_xpth).send_keys(texto_pesq)\n",
    "\n",
    "sleep(5)\n",
    "pageSource = browser.page_source\n",
    "bs = BeautifulSoup(pageSource, 'html.parser')\n",
    "\n",
    "lista_de_prod = bs.find(\"ul\",\n",
    "                        {\"class\" : \"sc-fjvvzt ehuxpX sc-gvZAcH gpxQSn sc-eWHaVC jBBxap\"})\n",
    "produtos = lista_de_prod.find_all(\"li\", {\"class\" : \"sc-leQnM ldqJvo\"})\n",
    "\n",
    "informacoes = []\n",
    "for produto in produtos:\n",
    "    dados_prod = {}\n",
    "    \n",
    "    info_prod = produto.find(\"div\", {\"data-testid\" : \"product-card-content\"})\n",
    "    dados_prod[\"Título do Prod.\"] = info_prod.find(\"h2\",\n",
    "                                                   {\"data-testid\" : \"product-title\"}).text\n",
    "    dados_prod[\"Preço Original\"] = info_prod.find(\"p\",\n",
    "                                                  {\"data-testid\" : \"price-original\"}).text\n",
    "    dados_prod[\"Preço Atual\"] = info_prod.find(\"p\",\n",
    "                                               {\"data-testid\" : \"price-value\"}).text\n",
    "    dados_prod[\"Img. do Produto\"] = \"https://www.magazineluiza.com.br\" + produto.a.get('href')\n",
    "    informacoes.append(dados_prod)"
   ]
  },
  {
   "cell_type": "code",
   "execution_count": null,
   "metadata": {},
   "outputs": [],
   "source": []
  },
  {
   "cell_type": "code",
   "execution_count": 54,
   "metadata": {},
   "outputs": [],
   "source": [
    "pd.DataFrame(informacoes).to_excel(\"dados_geladeira_mag.xlsx\")"
   ]
  },
  {
   "cell_type": "code",
   "execution_count": null,
   "metadata": {},
   "outputs": [],
   "source": []
  }
 ],
 "metadata": {
  "kernelspec": {
   "display_name": "Python 3",
   "language": "python",
   "name": "python3"
  },
  "language_info": {
   "codemirror_mode": {
    "name": "ipython",
    "version": 3
   },
   "file_extension": ".py",
   "mimetype": "text/x-python",
   "name": "python",
   "nbconvert_exporter": "python",
   "pygments_lexer": "ipython3",
   "version": "3.7.6"
  }
 },
 "nbformat": 4,
 "nbformat_minor": 4
}
