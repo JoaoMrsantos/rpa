{
 "cells": [
  {
   "cell_type": "code",
   "execution_count": 1,
   "metadata": {},
   "outputs": [
    {
     "name": "stderr",
     "output_type": "stream",
     "text": [
      "[WDM] - Current google-chrome version is 114.0.5735\n",
      "[WDM] - Get LATEST driver version for 114.0.5735\n"
     ]
    },
    {
     "name": "stdout",
     "output_type": "stream",
     "text": [
      " \n"
     ]
    },
    {
     "name": "stderr",
     "output_type": "stream",
     "text": [
      "[WDM] - Driver [/Users/joao/.wdm/drivers/chromedriver/mac64/114.0.5735.90/chromedriver] found in cache\n"
     ]
    },
    {
     "data": {
      "text/plain": [
       "[{'Logradouro/Nome': 'Rua A',\n",
       "  'Bairro/Distrito': 'Jardim Amália',\n",
       "  'Localidade/UF': 'São Paulo/SP',\n",
       "  'CEP': '05892-387'},\n",
       " {'Logradouro/Nome': 'Travessa 12 (Cj Tijolinho)',\n",
       "  'Bairro/Distrito': 'Sepetiba',\n",
       "  'Localidade/UF': 'Rio de Janeiro/RJ',\n",
       "  'CEP': '23548-057'},\n",
       " {'Logradouro/Nome': 'Rua Vitorino Carmilo',\n",
       "  'Bairro/Distrito': 'Barra Funda',\n",
       "  'Localidade/UF': 'São Paulo/SP',\n",
       "  'CEP': '01153-000'}]"
      ]
     },
     "execution_count": 1,
     "metadata": {},
     "output_type": "execute_result"
    }
   ],
   "source": [
    "from selenium import webdriver\n",
    "from webdriver_manager.chrome import ChromeDriverManager\n",
    "from time import sleep\n",
    "import pandas as pd\n",
    "\n",
    "import urllib.request as urllib_request\n",
    "from urllib.request import urlopen\n",
    "from bs4 import BeautifulSoup\n",
    "\n",
    "ceps = ['05892-387', '23548-057', '01153-000']\n",
    "\n",
    "url = \"https://buscacepinter.correios.com.br/app/endereco/index.php\"\n",
    "browser = webdriver.Chrome(ChromeDriverManager().install())\n",
    "browser.get(url)\n",
    "\n",
    "def pesquisar_valor(search_xpth, texto_pesq, btn_buscar):\n",
    "    browser.find_element_by_xpath(search_xpth).click()\n",
    "    sleep(2)\n",
    "    browser.find_element_by_xpath(search_xpth).send_keys(texto_pesq)\n",
    "    sleep(2)\n",
    "    browser.find_element_by_xpath(btn_buscar).click()\n",
    "\n",
    "tab_dados = []\n",
    "for cep in ceps:   \n",
    "    pesquisar_valor('//*[@id=\"endereco\"]', cep, '//*[@id=\"btn_pesquisar\"]')\n",
    "    sleep(5)\n",
    "\n",
    "    pageSource = browser.page_source\n",
    "    bs = BeautifulSoup(pageSource, 'html.parser')\n",
    "\n",
    "    cabecario = bs.find(\"table\", {\"id\": \"resultado-DNEC\"}).find_all(\"th\")\n",
    "    infos = bs.find(\"table\", {\"id\": \"resultado-DNEC\"}).find_all(\"td\")\n",
    "\n",
    "    dados = {}\n",
    "    for i in range(0, len(cabecario)):\n",
    "        dados[cabecario[i].text] = infos[i].text\n",
    "    tab_dados.append(dados)\n",
    "    sleep(2)    \n",
    "    btn_nova_busc = '//*[@id=\"btn_nbusca\"]'\n",
    "    browser.find_element_by_xpath(btn_nova_busc).click()\n",
    "    sleep(5)\n",
    "\n",
    "browser.quit()\n",
    "tab_dados"
   ]
  },
  {
   "cell_type": "code",
   "execution_count": null,
   "metadata": {},
   "outputs": [],
   "source": []
  }
 ],
 "metadata": {
  "kernelspec": {
   "display_name": "Python 3",
   "language": "python",
   "name": "python3"
  },
  "language_info": {
   "codemirror_mode": {
    "name": "ipython",
    "version": 3
   },
   "file_extension": ".py",
   "mimetype": "text/x-python",
   "name": "python",
   "nbconvert_exporter": "python",
   "pygments_lexer": "ipython3",
   "version": "3.7.6"
  }
 },
 "nbformat": 4,
 "nbformat_minor": 4
}
