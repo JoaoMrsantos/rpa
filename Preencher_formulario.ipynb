{
 "cells": [
  {
   "cell_type": "code",
   "execution_count": 17,
   "metadata": {},
   "outputs": [
    {
     "name": "stderr",
     "output_type": "stream",
     "text": [
      "[WDM] - Current google-chrome version is 114.0.5735\n",
      "[WDM] - Get LATEST driver version for 114.0.5735\n"
     ]
    },
    {
     "name": "stdout",
     "output_type": "stream",
     "text": [
      " \n"
     ]
    },
    {
     "name": "stderr",
     "output_type": "stream",
     "text": [
      "[WDM] - Driver [/Users/joao/.wdm/drivers/chromedriver/mac64/114.0.5735.90/chromedriver] found in cache\n"
     ]
    }
   ],
   "source": [
    "from selenium import webdriver\n",
    "from webdriver_manager.chrome import ChromeDriverManager\n",
    "from selenium.webdriver.support.select import Select\n",
    "from time import sleep\n",
    "import pandas as pd\n",
    "\n",
    "import urllib.request as urllib_request\n",
    "from urllib.request import urlopen\n",
    "from bs4 import BeautifulSoup\n",
    "\n",
    "url = \"https://form.jotform.com/221436066464051\"\n",
    "browser = webdriver.Chrome(ChromeDriverManager().install())\n",
    "browser.get(url)\n",
    "\n",
    "def inserir_valor(search_xpth, texto_pesq):\n",
    "    browser.find_element_by_xpath(search_xpth).click()\n",
    "    sleep(2)\n",
    "    browser.find_element_by_xpath(search_xpth).send_keys(texto_pesq)\n",
    "    \n",
    "xpaths = {'Nome' : '//*[@id=\"first_3\"]', 'Sobrenome': '//*[@id=\"last_3\"]',\n",
    "         'E-mail': '//*[@id=\"input_4\"]', 'Estado Civil': '//*[@id=\"input_5\"]'}\n",
    "\n",
    "inserir_valor(xpaths['Nome'], \"Clara\")\n",
    "inserir_valor(xpaths['Sobrenome'], \"Maria\")\n",
    "inserir_valor(xpaths['E-mail'], \"mariaclarinha12563@hotmmail.com\")\n",
    "\n",
    "select = Select(browser.find_element_by_xpath(xpaths['Estado Civil']))\n",
    "opcoes_estado_civil = ['Solteiro(a)', 'Casado(a)', 'Divorciado(a)', 'Viuvo(a)']\n",
    "select.select_by_visible_text(opcoes_estado_civil[1])\n",
    "\n",
    "select_filhos = {'Sim' : '//*[@id=\"cid_6\"]/div/span[1]', \n",
    "                 'Não' : '//*[@id=\"cid_6\"]/div/span[2]'}\n",
    "browser.find_element_by_xpath(select_filhos['Não']).click()\n",
    "\n",
    "cores = {'Azul': \"0\", 'Amarelo': \"1\", 'Vermelho': \"2\",\n",
    "         'Laranja': \"3\", 'Preto': \"4\", 'Verde': \"5\"} \n",
    "\n",
    "path_cores = '//*[@id=\"label_input_7_{}\"]'.format(cores['Azul'])\n",
    "browser.find_element_by_xpath(path_cores).click()\n",
    "\n",
    "nota = 2\n",
    "path_notas = '//*[@id=\"input_8\"]/div[{}]' \n",
    "browser.find_element_by_xpath(path_notas.format(nota)).click()\n",
    "\n",
    "qualidade = {'Insatisfeito(a)': '0', 'Pouco satisfeito(a)': '1',\n",
    "            'Satisfeito(a)': '2', 'Muito Satisfeito(a)': '3'}\n",
    "\n",
    "path_qual_serv = '//*[@id=\"cid_9\"]/table/tbody/tr[2]/td[{}]'\n",
    "path_grau_dif = '//*[@id=\"cid_9\"]/table/tbody/tr[3]/td[{}]'\n",
    "\n",
    "browser.find_element_by_xpath(path_qual_serv.format(qualidade['Pouco satisfeito(a)'])).click()\n",
    "browser.find_element_by_xpath(path_grau_dif.format(qualidade['Satisfeito(a)'])).click()\n",
    "\n",
    "btn_enviar = '//*[@id=\"input_2\"]'\n",
    "browser.find_element_by_xpath(btn_enviar).click()"
   ]
  }
 ],
 "metadata": {
  "kernelspec": {
   "display_name": "Python 3",
   "language": "python",
   "name": "python3"
  },
  "language_info": {
   "codemirror_mode": {
    "name": "ipython",
    "version": 3
   },
   "file_extension": ".py",
   "mimetype": "text/x-python",
   "name": "python",
   "nbconvert_exporter": "python",
   "pygments_lexer": "ipython3",
   "version": "3.7.6"
  }
 },
 "nbformat": 4,
 "nbformat_minor": 4
}
