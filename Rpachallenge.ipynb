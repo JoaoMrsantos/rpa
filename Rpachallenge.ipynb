{
 "cells": [
  {
   "cell_type": "code",
   "execution_count": 86,
   "metadata": {},
   "outputs": [
    {
     "name": "stderr",
     "output_type": "stream",
     "text": [
      "[WDM] - Current google-chrome version is 114.0.5735\n",
      "[WDM] - Get LATEST driver version for 114.0.5735\n"
     ]
    },
    {
     "name": "stdout",
     "output_type": "stream",
     "text": [
      " \n"
     ]
    },
    {
     "name": "stderr",
     "output_type": "stream",
     "text": [
      "[WDM] - Driver [/Users/joao/.wdm/drivers/chromedriver/mac64/114.0.5735.90/chromedriver] found in cache\n"
     ]
    }
   ],
   "source": [
    "from selenium import webdriver\n",
    "from webdriver_manager.chrome import ChromeDriverManager\n",
    "from selenium.webdriver.support.select import Select\n",
    "from time import sleep\n",
    "import pandas as pd\n",
    "\n",
    "import urllib.request as urllib_request\n",
    "from urllib.request import urlopen\n",
    "from bs4 import BeautifulSoup\n",
    "\n",
    "url = 'https://www.rpachallenge.com/'\n",
    "browser = webdriver.Chrome(ChromeDriverManager().install())\n",
    "browser.get(url)\n",
    "\n",
    "def inserir_valor(search_xpth, texto_pesq):\n",
    "    browser.find_element_by_xpath(search_xpth).click()\n",
    "    sleep(2)\n",
    "    browser.find_element_by_xpath(search_xpth).send_keys(texto_pesq)\n",
    "    \n",
    "# versao estatica\n",
    "dados_formulario = pd.read_excel('challenge.xlsx')    \n",
    "    \n",
    "xpaths = { 'First Name' : '8Cqbx', 'Last Name': 'Rw3kG',\n",
    " 'Company Name' : 'Lqf5L', 'Email': 'GSZVP', \n",
    " 'Phone Number': 'wVsXy', 'Role in Company': 'tsZp9', \n",
    " 'Address': '1Pz7t', 'Phone Number': 'wVsXy'}\n",
    "\n",
    "formato = '//*[@id=\"{}\"]'\n",
    "btn_submit = '/html/body/app-root/div[2]/app-rpa1/div/div[2]/form/input'\n",
    "\n",
    "colunas = []\n",
    "for col in dados_formulario.columns:\n",
    "    colunas.append(col)\n",
    "\n",
    "for col in colunas:\n",
    "    inserir_valor('//*[@id=\"{}\"]'.format(xpaths[col.strip()]),\n",
    "                  str(dados_formulario[col][0]))\n",
    "browser.find_element_by_xpath(btn_submit).click()"
   ]
  },
  {
   "cell_type": "code",
   "execution_count": 177,
   "metadata": {},
   "outputs": [
    {
     "name": "stderr",
     "output_type": "stream",
     "text": [
      "[WDM] - Current google-chrome version is 114.0.5735\n",
      "[WDM] - Get LATEST driver version for 114.0.5735\n",
      "[WDM] - Driver [/Users/joao/.wdm/drivers/chromedriver/mac64/114.0.5735.90/chromedriver] found in cache\n"
     ]
    },
    {
     "name": "stdout",
     "output_type": "stream",
     "text": [
      " \n"
     ]
    }
   ],
   "source": [
    "from selenium import webdriver\n",
    "from webdriver_manager.chrome import ChromeDriverManager\n",
    "from selenium.webdriver.support.select import Select\n",
    "from time import sleep\n",
    "import pandas as pd\n",
    "import re \n",
    "\n",
    "import urllib.request as urllib_request\n",
    "from urllib.request import urlopen\n",
    "from bs4 import BeautifulSoup\n",
    "\n",
    "\n",
    "def inserir_valor(search_xpth, texto_pesq):\n",
    "    browser.find_element_by_xpath(search_xpth).click()\n",
    "    sleep(2)\n",
    "    browser.find_element_by_xpath(search_xpth).send_keys(texto_pesq)\n",
    "\n",
    "url = 'https://www.rpachallenge.com/'\n",
    "browser = webdriver.Chrome(ChromeDriverManager().install())\n",
    "browser.get(url)\n",
    "sleep(5)\n",
    "btn_start = '/html/body/app-root/div[2]/app-rpa1/div/div[1]/div[6]/button'\n",
    "browser.find_element_by_xpath(btn_start).click()\n",
    "\n",
    "dados_formulario = pd.read_excel('challenge.xlsx')\n",
    "colunas = []\n",
    "for col in dados_formulario.columns:\n",
    "    colunas.append(col)\n",
    "\n",
    "for idx01 in range(0, len(dados_formulario)):\n",
    "    pageSource = browser.page_source\n",
    "    bs = BeautifulSoup(pageSource, 'html.parser')\n",
    "    html_form = bs.find('form')\n",
    "    class_form = str(html_form.div.div)\n",
    "    t = re.compile(r'class=\"(.*?)\"')\n",
    "    fields_form = html_form.find_all('div', {'class': t.findall(class_form)[0]})\n",
    "\n",
    "    xpaths = {}\n",
    "    for idx in range(0, len(fields_form)): \n",
    "        txt = str(fields_form[idx].input)\n",
    "        t = re.compile(r'id=\"(.*?)\"')\n",
    "        xpaths[fields_form[idx].text] = t.findall(txt)[0]   \n",
    "\n",
    "    for col in colunas:\n",
    "        inserir_valor('//*[@id=\"{}\"]'.format(xpaths[col.strip()]),\n",
    "                      str(dados_formulario[col][idx01]))\n",
    "\n",
    "    sleep(3)\n",
    "    btn_submit = '/html/body/app-root/div[2]/app-rpa1/div/div[2]/form/input'\n",
    "    browser.find_element_by_xpath(btn_submit).click()"
   ]
  },
  {
   "cell_type": "code",
   "execution_count": null,
   "metadata": {},
   "outputs": [],
   "source": [
    "x"
   ]
  }
 ],
 "metadata": {
  "kernelspec": {
   "display_name": "Python 3",
   "language": "python",
   "name": "python3"
  },
  "language_info": {
   "codemirror_mode": {
    "name": "ipython",
    "version": 3
   },
   "file_extension": ".py",
   "mimetype": "text/x-python",
   "name": "python",
   "nbconvert_exporter": "python",
   "pygments_lexer": "ipython3",
   "version": "3.7.6"
  }
 },
 "nbformat": 4,
 "nbformat_minor": 4
}
