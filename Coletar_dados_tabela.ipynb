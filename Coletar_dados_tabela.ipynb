{
 "cells": [
  {
   "cell_type": "code",
   "execution_count": 47,
   "metadata": {},
   "outputs": [
    {
     "name": "stderr",
     "output_type": "stream",
     "text": [
      "[WDM] - Current google-chrome version is 114.0.5735\n",
      "[WDM] - Get LATEST driver version for 114.0.5735\n"
     ]
    },
    {
     "name": "stdout",
     "output_type": "stream",
     "text": [
      " \n"
     ]
    },
    {
     "name": "stderr",
     "output_type": "stream",
     "text": [
      "[WDM] - Driver [/Users/joao/.wdm/drivers/chromedriver/mac64/114.0.5735.90/chromedriver] found in cache\n"
     ]
    },
    {
     "data": {
      "text/plain": [
       "[{'#': '1', 'ID': 'sd7m4vjuo5dl4z5qsl7qrb', 'Due Date': '06-06-2023'},\n",
       " {'#': '2', 'ID': '9brnlxooa2f9075ze3igq7', 'Due Date': '11-08-2023'},\n",
       " {'#': '3', 'ID': 'q68e9lqcipk0pdv5lyu', 'Due Date': '29-06-2023'},\n",
       " {'#': '4', 'ID': 'y2f3ozaqchk53gysjg7ga', 'Due Date': '07-06-2023'}]"
      ]
     },
     "execution_count": 47,
     "metadata": {},
     "output_type": "execute_result"
    }
   ],
   "source": [
    "# para uma unica aba\n",
    "from selenium import webdriver\n",
    "from selenium.webdriver.common.by import By\n",
    "from selenium.webdriver.support.ui import WebDriverWait\n",
    "from selenium.webdriver.support import expected_conditions as EC\n",
    "from webdriver_manager.chrome import ChromeDriverManager\n",
    "\n",
    "# abrir navegador e ir ate a url\n",
    "browser = webdriver.Chrome(ChromeDriverManager().install())\n",
    "url = \"https://rpachallengeocr.azurewebsites.net/\"\n",
    "browser.get(url)\n",
    "# coletar informacoes do site\n",
    "pageSource = browser.page_source\n",
    "bs = BeautifulSoup(pageSource, 'html.parser')\n",
    "tabela = bs.find(\"div\",{\"id\": \"tableSandbox_wrapper\" })\n",
    "# coletando cabecario da tabela\n",
    "head = tabela.table.thead.find_all(\"th\")\n",
    "heads = []\n",
    "for hd in head:\n",
    "    heads.append(hd.text)\n",
    "# coletando informacoes das linhas    \n",
    "rows = tabela.tbody.find_all(\"tr\")\n",
    "cells = []\n",
    "for rw in rows:\n",
    "    cells.append(rw.find_all(\"td\"))  \n",
    "dados = []\n",
    "for cell in cells:\n",
    "    dado = {}\n",
    "    for i in range(0, 3):\n",
    "        dado[head[i].text] = cell[i].text\n",
    "        i += 1\n",
    "    dados.append(dado)\n",
    "dados"
   ]
  },
  {
   "cell_type": "code",
   "execution_count": 54,
   "metadata": {},
   "outputs": [
    {
     "name": "stderr",
     "output_type": "stream",
     "text": [
      "[WDM] - Current google-chrome version is 114.0.5735\n",
      "[WDM] - Get LATEST driver version for 114.0.5735\n"
     ]
    },
    {
     "name": "stdout",
     "output_type": "stream",
     "text": [
      " \n"
     ]
    },
    {
     "name": "stderr",
     "output_type": "stream",
     "text": [
      "[WDM] - Driver [/Users/joao/.wdm/drivers/chromedriver/mac64/114.0.5735.90/chromedriver] found in cache\n"
     ]
    }
   ],
   "source": [
    "# para todas as abas do site\n",
    "from selenium import webdriver\n",
    "from selenium.webdriver.common.by import By\n",
    "from selenium.webdriver.support.ui import WebDriverWait\n",
    "from selenium.webdriver.support import expected_conditions as EC\n",
    "from webdriver_manager.chrome import ChromeDriverManager\n",
    "from time import sleep\n",
    "import pandas as pd\n",
    "\n",
    "# abrir navegador e ir ate a url\n",
    "browser = webdriver.Chrome(ChromeDriverManager().install())\n",
    "url = \"https://rpachallengeocr.azurewebsites.net/\"\n",
    "browser.get(url)\n",
    "sleep(5)\n",
    "dados = []\n",
    "\n",
    "for j in range(1 , 4):\n",
    "    sleep(2)\n",
    "    browser.find_element_by_xpath(\n",
    "        '//*[@id=\"tableSandbox_paginate\"]/span/a[{}]'.format(j)).click()\n",
    "    # coletar informacoes do site\n",
    "    pageSource = browser.page_source\n",
    "    bs = BeautifulSoup(pageSource, 'html.parser')\n",
    "    tabela = bs.find(\"div\",{\"id\": \"tableSandbox_wrapper\" })\n",
    "    # coletando cabecario da tabela\n",
    "    head = tabela.table.thead.find_all(\"th\")\n",
    "    heads = []\n",
    "    for hd in head:\n",
    "        heads.append(hd.text)\n",
    "    # coletando informacoes das linhas    \n",
    "    rows = tabela.tbody.find_all(\"tr\")\n",
    "    cells = []\n",
    "    for rw in rows:\n",
    "        cells.append(rw.find_all(\"td\"))  \n",
    "    for cell in cells:\n",
    "        dado = {}\n",
    "        for i in range(0, 3):\n",
    "            dado[head[i].text] = cell[i].text\n",
    "            i += 1\n",
    "        dados.append(dado)\n",
    "pd.DataFrame(dados).to_excel(\"dados.xlsx\")"
   ]
  }
 ],
 "metadata": {
  "kernelspec": {
   "display_name": "Python 3",
   "language": "python",
   "name": "python3"
  },
  "language_info": {
   "codemirror_mode": {
    "name": "ipython",
    "version": 3
   },
   "file_extension": ".py",
   "mimetype": "text/x-python",
   "name": "python",
   "nbconvert_exporter": "python",
   "pygments_lexer": "ipython3",
   "version": "3.7.6"
  }
 },
 "nbformat": 4,
 "nbformat_minor": 4
}
